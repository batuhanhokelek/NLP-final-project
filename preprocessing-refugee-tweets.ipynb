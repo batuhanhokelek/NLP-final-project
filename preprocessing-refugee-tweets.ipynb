{
 "cells": [
  {
   "cell_type": "code",
   "execution_count": 1,
   "id": "0d92fb5b",
   "metadata": {},
   "outputs": [],
   "source": [
    "%matplotlib inline\n",
    "\n",
    "import pandas as pd\n",
    "import numpy as np\n",
    "import re\n",
    "import string\n",
    "import nltk\n",
    "from nltk.corpus import stopwords\n",
    "import re\n",
    "import string\n",
    "from googletrans import Translator\n",
    "from textblob import TextBlob\n",
    "\n",
    "# Plotting tools\n",
    "import matplotlib.pyplot as plt\n"
   ]
  },
  {
   "cell_type": "code",
   "execution_count": 2,
   "id": "44cbcf29",
   "metadata": {
    "scrolled": false
   },
   "outputs": [
    {
     "data": {
      "text/html": [
       "<div>\n",
       "<style scoped>\n",
       "    .dataframe tbody tr th:only-of-type {\n",
       "        vertical-align: middle;\n",
       "    }\n",
       "\n",
       "    .dataframe tbody tr th {\n",
       "        vertical-align: top;\n",
       "    }\n",
       "\n",
       "    .dataframe thead th {\n",
       "        text-align: right;\n",
       "    }\n",
       "</style>\n",
       "<table border=\"1\" class=\"dataframe\">\n",
       "  <thead>\n",
       "    <tr style=\"text-align: right;\">\n",
       "      <th></th>\n",
       "      <th>_type</th>\n",
       "      <th>url</th>\n",
       "      <th>date</th>\n",
       "      <th>Tweets</th>\n",
       "      <th>renderedContent</th>\n",
       "      <th>ID</th>\n",
       "      <th>user</th>\n",
       "      <th>replyCount</th>\n",
       "      <th>retweetCount</th>\n",
       "      <th>likeCount</th>\n",
       "      <th>...</th>\n",
       "      <th>media</th>\n",
       "      <th>retweetedTweet</th>\n",
       "      <th>quotedTweet</th>\n",
       "      <th>inReplyToTweetId</th>\n",
       "      <th>inReplyToUser</th>\n",
       "      <th>mentionedUsers</th>\n",
       "      <th>coordinates</th>\n",
       "      <th>place</th>\n",
       "      <th>hashtags</th>\n",
       "      <th>cashtags</th>\n",
       "    </tr>\n",
       "  </thead>\n",
       "  <tbody>\n",
       "    <tr>\n",
       "      <th>0</th>\n",
       "      <td>snscrape.modules.twitter.Tweet</td>\n",
       "      <td>https://twitter.com/sebnemozgokmen/status/1520...</td>\n",
       "      <td>2022-04-30 23:59:47+00:00</td>\n",
       "      <td>uykumda “ülkemde 1 tane bile mülteci istemiyor...</td>\n",
       "      <td>uykumda “ülkemde 1 tane bile mülteci istemiyor...</td>\n",
       "      <td>1520553533216591873</td>\n",
       "      <td>{'_type': 'snscrape.modules.twitter.User', 'us...</td>\n",
       "      <td>0</td>\n",
       "      <td>0</td>\n",
       "      <td>1</td>\n",
       "      <td>...</td>\n",
       "      <td>None</td>\n",
       "      <td>NaN</td>\n",
       "      <td>None</td>\n",
       "      <td>NaN</td>\n",
       "      <td>None</td>\n",
       "      <td>None</td>\n",
       "      <td>None</td>\n",
       "      <td>None</td>\n",
       "      <td>None</td>\n",
       "      <td>None</td>\n",
       "    </tr>\n",
       "    <tr>\n",
       "      <th>1</th>\n",
       "      <td>snscrape.modules.twitter.Tweet</td>\n",
       "      <td>https://twitter.com/cngz_ts/status/15205530170...</td>\n",
       "      <td>2022-04-30 23:57:44+00:00</td>\n",
       "      <td>@junsuk091 Ülkeyi mülteci istilâsından kurtara...</td>\n",
       "      <td>@junsuk091 Ülkeyi mülteci istilâsından kurtara...</td>\n",
       "      <td>1520553017061388289</td>\n",
       "      <td>{'_type': 'snscrape.modules.twitter.User', 'us...</td>\n",
       "      <td>0</td>\n",
       "      <td>0</td>\n",
       "      <td>2</td>\n",
       "      <td>...</td>\n",
       "      <td>None</td>\n",
       "      <td>NaN</td>\n",
       "      <td>None</td>\n",
       "      <td>1.520553e+18</td>\n",
       "      <td>{'_type': 'snscrape.modules.twitter.User', 'us...</td>\n",
       "      <td>[{'_type': 'snscrape.modules.twitter.User', 'u...</td>\n",
       "      <td>None</td>\n",
       "      <td>None</td>\n",
       "      <td>None</td>\n",
       "      <td>None</td>\n",
       "    </tr>\n",
       "  </tbody>\n",
       "</table>\n",
       "<p>2 rows × 28 columns</p>\n",
       "</div>"
      ],
      "text/plain": [
       "                            _type  \\\n",
       "0  snscrape.modules.twitter.Tweet   \n",
       "1  snscrape.modules.twitter.Tweet   \n",
       "\n",
       "                                                 url  \\\n",
       "0  https://twitter.com/sebnemozgokmen/status/1520...   \n",
       "1  https://twitter.com/cngz_ts/status/15205530170...   \n",
       "\n",
       "                       date  \\\n",
       "0 2022-04-30 23:59:47+00:00   \n",
       "1 2022-04-30 23:57:44+00:00   \n",
       "\n",
       "                                              Tweets  \\\n",
       "0  uykumda “ülkemde 1 tane bile mülteci istemiyor...   \n",
       "1  @junsuk091 Ülkeyi mülteci istilâsından kurtara...   \n",
       "\n",
       "                                     renderedContent                   ID  \\\n",
       "0  uykumda “ülkemde 1 tane bile mülteci istemiyor...  1520553533216591873   \n",
       "1  @junsuk091 Ülkeyi mülteci istilâsından kurtara...  1520553017061388289   \n",
       "\n",
       "                                                user  replyCount  \\\n",
       "0  {'_type': 'snscrape.modules.twitter.User', 'us...           0   \n",
       "1  {'_type': 'snscrape.modules.twitter.User', 'us...           0   \n",
       "\n",
       "   retweetCount  likeCount  ...  media  retweetedTweet quotedTweet  \\\n",
       "0             0          1  ...   None             NaN        None   \n",
       "1             0          2  ...   None             NaN        None   \n",
       "\n",
       "  inReplyToTweetId                                      inReplyToUser  \\\n",
       "0              NaN                                               None   \n",
       "1     1.520553e+18  {'_type': 'snscrape.modules.twitter.User', 'us...   \n",
       "\n",
       "                                      mentionedUsers coordinates place  \\\n",
       "0                                               None        None  None   \n",
       "1  [{'_type': 'snscrape.modules.twitter.User', 'u...        None  None   \n",
       "\n",
       "  hashtags  cashtags  \n",
       "0     None      None  \n",
       "1     None      None  \n",
       "\n",
       "[2 rows x 28 columns]"
      ]
     },
     "execution_count": 2,
     "metadata": {},
     "output_type": "execute_result"
    }
   ],
   "source": [
    "df = pd.read_json(\"refugee-tweets-final.json\",lines=True)\n",
    "df.rename(columns = {'content':'Tweets', 'id':'ID'}, inplace = True)\n",
    "df = df[:10000] #10000 tweets\n",
    "df.head(2)"
   ]
  },
  {
   "cell_type": "code",
   "execution_count": 3,
   "id": "5b5893fd",
   "metadata": {},
   "outputs": [
    {
     "data": {
      "text/plain": [
       "(10000, 28)"
      ]
     },
     "execution_count": 3,
     "metadata": {},
     "output_type": "execute_result"
    }
   ],
   "source": [
    "df.shape"
   ]
  },
  {
   "cell_type": "markdown",
   "id": "dbd6cb35",
   "metadata": {},
   "source": [
    "# Text Preprocessing"
   ]
  },
  {
   "cell_type": "markdown",
   "id": "eb5b2d2a",
   "metadata": {},
   "source": [
    "#### Convert to lower case"
   ]
  },
  {
   "cell_type": "code",
   "execution_count": 4,
   "id": "225cf985",
   "metadata": {},
   "outputs": [
    {
     "data": {
      "text/html": [
       "<div>\n",
       "<style scoped>\n",
       "    .dataframe tbody tr th:only-of-type {\n",
       "        vertical-align: middle;\n",
       "    }\n",
       "\n",
       "    .dataframe tbody tr th {\n",
       "        vertical-align: top;\n",
       "    }\n",
       "\n",
       "    .dataframe thead th {\n",
       "        text-align: right;\n",
       "    }\n",
       "</style>\n",
       "<table border=\"1\" class=\"dataframe\">\n",
       "  <thead>\n",
       "    <tr style=\"text-align: right;\">\n",
       "      <th></th>\n",
       "      <th>_type</th>\n",
       "      <th>url</th>\n",
       "      <th>date</th>\n",
       "      <th>Tweets</th>\n",
       "      <th>renderedContent</th>\n",
       "      <th>ID</th>\n",
       "      <th>user</th>\n",
       "      <th>replyCount</th>\n",
       "      <th>retweetCount</th>\n",
       "      <th>likeCount</th>\n",
       "      <th>...</th>\n",
       "      <th>media</th>\n",
       "      <th>retweetedTweet</th>\n",
       "      <th>quotedTweet</th>\n",
       "      <th>inReplyToTweetId</th>\n",
       "      <th>inReplyToUser</th>\n",
       "      <th>mentionedUsers</th>\n",
       "      <th>coordinates</th>\n",
       "      <th>place</th>\n",
       "      <th>hashtags</th>\n",
       "      <th>cashtags</th>\n",
       "    </tr>\n",
       "  </thead>\n",
       "  <tbody>\n",
       "    <tr>\n",
       "      <th>0</th>\n",
       "      <td>snscrape.modules.twitter.Tweet</td>\n",
       "      <td>https://twitter.com/sebnemozgokmen/status/1520...</td>\n",
       "      <td>2022-04-30 23:59:47+00:00</td>\n",
       "      <td>uykumda “ülkemde 1 tane bile mülteci istemiyor...</td>\n",
       "      <td>uykumda “ülkemde 1 tane bile mülteci istemiyor...</td>\n",
       "      <td>1520553533216591873</td>\n",
       "      <td>{'_type': 'snscrape.modules.twitter.User', 'us...</td>\n",
       "      <td>0</td>\n",
       "      <td>0</td>\n",
       "      <td>1</td>\n",
       "      <td>...</td>\n",
       "      <td>None</td>\n",
       "      <td>NaN</td>\n",
       "      <td>None</td>\n",
       "      <td>NaN</td>\n",
       "      <td>None</td>\n",
       "      <td>None</td>\n",
       "      <td>None</td>\n",
       "      <td>None</td>\n",
       "      <td>None</td>\n",
       "      <td>None</td>\n",
       "    </tr>\n",
       "    <tr>\n",
       "      <th>1</th>\n",
       "      <td>snscrape.modules.twitter.Tweet</td>\n",
       "      <td>https://twitter.com/cngz_ts/status/15205530170...</td>\n",
       "      <td>2022-04-30 23:57:44+00:00</td>\n",
       "      <td>@junsuk091 ülkeyi mülteci istilâsından kurtara...</td>\n",
       "      <td>@junsuk091 Ülkeyi mülteci istilâsından kurtara...</td>\n",
       "      <td>1520553017061388289</td>\n",
       "      <td>{'_type': 'snscrape.modules.twitter.User', 'us...</td>\n",
       "      <td>0</td>\n",
       "      <td>0</td>\n",
       "      <td>2</td>\n",
       "      <td>...</td>\n",
       "      <td>None</td>\n",
       "      <td>NaN</td>\n",
       "      <td>None</td>\n",
       "      <td>1.520553e+18</td>\n",
       "      <td>{'_type': 'snscrape.modules.twitter.User', 'us...</td>\n",
       "      <td>[{'_type': 'snscrape.modules.twitter.User', 'u...</td>\n",
       "      <td>None</td>\n",
       "      <td>None</td>\n",
       "      <td>None</td>\n",
       "      <td>None</td>\n",
       "    </tr>\n",
       "    <tr>\n",
       "      <th>2</th>\n",
       "      <td>snscrape.modules.twitter.Tweet</td>\n",
       "      <td>https://twitter.com/heu_mis/status/15205528979...</td>\n",
       "      <td>2022-04-30 23:57:16+00:00</td>\n",
       "      <td>@siginmacigundem lan mülteciyse nasıl yerleşiy...</td>\n",
       "      <td>@SiginmaciGundem Lan mülteciyse nasıl yerleşiy...</td>\n",
       "      <td>1520552897901219841</td>\n",
       "      <td>{'_type': 'snscrape.modules.twitter.User', 'us...</td>\n",
       "      <td>0</td>\n",
       "      <td>0</td>\n",
       "      <td>0</td>\n",
       "      <td>...</td>\n",
       "      <td>None</td>\n",
       "      <td>NaN</td>\n",
       "      <td>None</td>\n",
       "      <td>1.520476e+18</td>\n",
       "      <td>{'_type': 'snscrape.modules.twitter.User', 'us...</td>\n",
       "      <td>[{'_type': 'snscrape.modules.twitter.User', 'u...</td>\n",
       "      <td>None</td>\n",
       "      <td>None</td>\n",
       "      <td>None</td>\n",
       "      <td>None</td>\n",
       "    </tr>\n",
       "    <tr>\n",
       "      <th>3</th>\n",
       "      <td>snscrape.modules.twitter.Tweet</td>\n",
       "      <td>https://twitter.com/GozlemciK/status/152055252...</td>\n",
       "      <td>2022-04-30 23:55:47+00:00</td>\n",
       "      <td>@ers7 @coinsanp @jahreindota sığınmacı ile göç...</td>\n",
       "      <td>@ers7 @coinsanp @jahreindota Sığınmacı ile göç...</td>\n",
       "      <td>1520552525090414593</td>\n",
       "      <td>{'_type': 'snscrape.modules.twitter.User', 'us...</td>\n",
       "      <td>0</td>\n",
       "      <td>0</td>\n",
       "      <td>0</td>\n",
       "      <td>...</td>\n",
       "      <td>None</td>\n",
       "      <td>NaN</td>\n",
       "      <td>None</td>\n",
       "      <td>1.520463e+18</td>\n",
       "      <td>{'_type': 'snscrape.modules.twitter.User', 'us...</td>\n",
       "      <td>[{'_type': 'snscrape.modules.twitter.User', 'u...</td>\n",
       "      <td>None</td>\n",
       "      <td>None</td>\n",
       "      <td>None</td>\n",
       "      <td>None</td>\n",
       "    </tr>\n",
       "    <tr>\n",
       "      <th>4</th>\n",
       "      <td>snscrape.modules.twitter.Tweet</td>\n",
       "      <td>https://twitter.com/kamuhekimi/status/15205522...</td>\n",
       "      <td>2022-04-30 23:54:52+00:00</td>\n",
       "      <td>@tofiqhaci @drgunersonmez bize ne arkadaşım? a...</td>\n",
       "      <td>@TofiqHaci @DrGunerSonmez Bize ne arkadaşım? A...</td>\n",
       "      <td>1520552297960456195</td>\n",
       "      <td>{'_type': 'snscrape.modules.twitter.User', 'us...</td>\n",
       "      <td>0</td>\n",
       "      <td>0</td>\n",
       "      <td>0</td>\n",
       "      <td>...</td>\n",
       "      <td>None</td>\n",
       "      <td>NaN</td>\n",
       "      <td>None</td>\n",
       "      <td>1.520545e+18</td>\n",
       "      <td>{'_type': 'snscrape.modules.twitter.User', 'us...</td>\n",
       "      <td>[{'_type': 'snscrape.modules.twitter.User', 'u...</td>\n",
       "      <td>None</td>\n",
       "      <td>None</td>\n",
       "      <td>None</td>\n",
       "      <td>None</td>\n",
       "    </tr>\n",
       "  </tbody>\n",
       "</table>\n",
       "<p>5 rows × 28 columns</p>\n",
       "</div>"
      ],
      "text/plain": [
       "                            _type  \\\n",
       "0  snscrape.modules.twitter.Tweet   \n",
       "1  snscrape.modules.twitter.Tweet   \n",
       "2  snscrape.modules.twitter.Tweet   \n",
       "3  snscrape.modules.twitter.Tweet   \n",
       "4  snscrape.modules.twitter.Tweet   \n",
       "\n",
       "                                                 url  \\\n",
       "0  https://twitter.com/sebnemozgokmen/status/1520...   \n",
       "1  https://twitter.com/cngz_ts/status/15205530170...   \n",
       "2  https://twitter.com/heu_mis/status/15205528979...   \n",
       "3  https://twitter.com/GozlemciK/status/152055252...   \n",
       "4  https://twitter.com/kamuhekimi/status/15205522...   \n",
       "\n",
       "                       date  \\\n",
       "0 2022-04-30 23:59:47+00:00   \n",
       "1 2022-04-30 23:57:44+00:00   \n",
       "2 2022-04-30 23:57:16+00:00   \n",
       "3 2022-04-30 23:55:47+00:00   \n",
       "4 2022-04-30 23:54:52+00:00   \n",
       "\n",
       "                                              Tweets  \\\n",
       "0  uykumda “ülkemde 1 tane bile mülteci istemiyor...   \n",
       "1  @junsuk091 ülkeyi mülteci istilâsından kurtara...   \n",
       "2  @siginmacigundem lan mülteciyse nasıl yerleşiy...   \n",
       "3  @ers7 @coinsanp @jahreindota sığınmacı ile göç...   \n",
       "4  @tofiqhaci @drgunersonmez bize ne arkadaşım? a...   \n",
       "\n",
       "                                     renderedContent                   ID  \\\n",
       "0  uykumda “ülkemde 1 tane bile mülteci istemiyor...  1520553533216591873   \n",
       "1  @junsuk091 Ülkeyi mülteci istilâsından kurtara...  1520553017061388289   \n",
       "2  @SiginmaciGundem Lan mülteciyse nasıl yerleşiy...  1520552897901219841   \n",
       "3  @ers7 @coinsanp @jahreindota Sığınmacı ile göç...  1520552525090414593   \n",
       "4  @TofiqHaci @DrGunerSonmez Bize ne arkadaşım? A...  1520552297960456195   \n",
       "\n",
       "                                                user  replyCount  \\\n",
       "0  {'_type': 'snscrape.modules.twitter.User', 'us...           0   \n",
       "1  {'_type': 'snscrape.modules.twitter.User', 'us...           0   \n",
       "2  {'_type': 'snscrape.modules.twitter.User', 'us...           0   \n",
       "3  {'_type': 'snscrape.modules.twitter.User', 'us...           0   \n",
       "4  {'_type': 'snscrape.modules.twitter.User', 'us...           0   \n",
       "\n",
       "   retweetCount  likeCount  ...  media  retweetedTweet quotedTweet  \\\n",
       "0             0          1  ...   None             NaN        None   \n",
       "1             0          2  ...   None             NaN        None   \n",
       "2             0          0  ...   None             NaN        None   \n",
       "3             0          0  ...   None             NaN        None   \n",
       "4             0          0  ...   None             NaN        None   \n",
       "\n",
       "  inReplyToTweetId                                      inReplyToUser  \\\n",
       "0              NaN                                               None   \n",
       "1     1.520553e+18  {'_type': 'snscrape.modules.twitter.User', 'us...   \n",
       "2     1.520476e+18  {'_type': 'snscrape.modules.twitter.User', 'us...   \n",
       "3     1.520463e+18  {'_type': 'snscrape.modules.twitter.User', 'us...   \n",
       "4     1.520545e+18  {'_type': 'snscrape.modules.twitter.User', 'us...   \n",
       "\n",
       "                                      mentionedUsers coordinates place  \\\n",
       "0                                               None        None  None   \n",
       "1  [{'_type': 'snscrape.modules.twitter.User', 'u...        None  None   \n",
       "2  [{'_type': 'snscrape.modules.twitter.User', 'u...        None  None   \n",
       "3  [{'_type': 'snscrape.modules.twitter.User', 'u...        None  None   \n",
       "4  [{'_type': 'snscrape.modules.twitter.User', 'u...        None  None   \n",
       "\n",
       "  hashtags  cashtags  \n",
       "0     None      None  \n",
       "1     None      None  \n",
       "2     None      None  \n",
       "3     None      None  \n",
       "4     None      None  \n",
       "\n",
       "[5 rows x 28 columns]"
      ]
     },
     "execution_count": 4,
     "metadata": {},
     "output_type": "execute_result"
    }
   ],
   "source": [
    "df['Tweets'] = [token.lower() for token in df['Tweets']]\n",
    "df.head(5)"
   ]
  },
  {
   "cell_type": "markdown",
   "id": "488d19f6",
   "metadata": {},
   "source": [
    "#### Remove @ mentions and hyperlinks and hastags"
   ]
  },
  {
   "cell_type": "code",
   "execution_count": 5,
   "id": "1322c26b",
   "metadata": {},
   "outputs": [
    {
     "data": {
      "text/plain": [
       "_type               6945\n",
       "url                 6945\n",
       "date                6945\n",
       "Tweets              6945\n",
       "renderedContent     6945\n",
       "ID                  6945\n",
       "user                6945\n",
       "replyCount          6945\n",
       "retweetCount        6945\n",
       "likeCount           6945\n",
       "quoteCount          6945\n",
       "conversationId      6945\n",
       "lang                6945\n",
       "source              6945\n",
       "sourceUrl           6945\n",
       "sourceLabel         6945\n",
       "outlinks             169\n",
       "tcooutlinks          169\n",
       "media                169\n",
       "retweetedTweet         0\n",
       "quotedTweet           85\n",
       "inReplyToTweetId    6645\n",
       "inReplyToUser       6645\n",
       "mentionedUsers      6812\n",
       "coordinates           71\n",
       "place                 71\n",
       "hashtags             138\n",
       "cashtags               0\n",
       "dtype: int64"
      ]
     },
     "execution_count": 5,
     "metadata": {},
     "output_type": "execute_result"
    }
   ],
   "source": [
    "found = df[df['Tweets'].str.contains('@')]\n",
    "found.count()"
   ]
  },
  {
   "cell_type": "code",
   "execution_count": 6,
   "id": "74898560",
   "metadata": {},
   "outputs": [
    {
     "name": "stdout",
     "output_type": "stream",
     "text": [
      "<class 'pandas.core.frame.DataFrame'>\n",
      "RangeIndex: 10000 entries, 0 to 9999\n",
      "Data columns (total 28 columns):\n",
      " #   Column            Non-Null Count  Dtype              \n",
      "---  ------            --------------  -----              \n",
      " 0   _type             10000 non-null  object             \n",
      " 1   url               10000 non-null  object             \n",
      " 2   date              10000 non-null  datetime64[ns, UTC]\n",
      " 3   Tweets            10000 non-null  object             \n",
      " 4   renderedContent   10000 non-null  object             \n",
      " 5   ID                10000 non-null  int64              \n",
      " 6   user              10000 non-null  object             \n",
      " 7   replyCount        10000 non-null  int64              \n",
      " 8   retweetCount      10000 non-null  int64              \n",
      " 9   likeCount         10000 non-null  int64              \n",
      " 10  quoteCount        10000 non-null  int64              \n",
      " 11  conversationId    10000 non-null  int64              \n",
      " 12  lang              10000 non-null  object             \n",
      " 13  source            10000 non-null  object             \n",
      " 14  sourceUrl         10000 non-null  object             \n",
      " 15  sourceLabel       10000 non-null  object             \n",
      " 16  outlinks          1194 non-null   object             \n",
      " 17  tcooutlinks       1194 non-null   object             \n",
      " 18  media             576 non-null    object             \n",
      " 19  retweetedTweet    0 non-null      float64            \n",
      " 20  quotedTweet       921 non-null    object             \n",
      " 21  inReplyToTweetId  6922 non-null   float64            \n",
      " 22  inReplyToUser     6922 non-null   object             \n",
      " 23  mentionedUsers    6812 non-null   object             \n",
      " 24  coordinates       148 non-null    object             \n",
      " 25  place             148 non-null    object             \n",
      " 26  hashtags          782 non-null    object             \n",
      " 27  cashtags          0 non-null      object             \n",
      "dtypes: datetime64[ns, UTC](1), float64(2), int64(6), object(19)\n",
      "memory usage: 2.1+ MB\n"
     ]
    }
   ],
   "source": [
    "df.info()"
   ]
  },
  {
   "cell_type": "code",
   "execution_count": 7,
   "id": "3a81914b",
   "metadata": {},
   "outputs": [
    {
     "data": {
      "text/plain": [
       "_type               119\n",
       "url                 119\n",
       "date                119\n",
       "Tweets              119\n",
       "renderedContent     119\n",
       "ID                  119\n",
       "user                119\n",
       "replyCount          119\n",
       "retweetCount        119\n",
       "likeCount           119\n",
       "quoteCount          119\n",
       "conversationId      119\n",
       "lang                119\n",
       "source              119\n",
       "sourceUrl           119\n",
       "sourceLabel         119\n",
       "outlinks              4\n",
       "tcooutlinks           4\n",
       "media                 4\n",
       "retweetedTweet        0\n",
       "quotedTweet           1\n",
       "inReplyToTweetId    113\n",
       "inReplyToUser       113\n",
       "mentionedUsers      111\n",
       "coordinates           1\n",
       "place                 1\n",
       "hashtags              3\n",
       "cashtags              0\n",
       "dtype: int64"
      ]
     },
     "execution_count": 7,
     "metadata": {},
     "output_type": "execute_result"
    }
   ],
   "source": [
    "df['Tweets'] = df['Tweets'].replace('@[A-Za-z0-9]+', '', regex=True).replace('@[A-Za-z0-9]+', '', regex=True)\n",
    "found = df[df['Tweets'].str.contains('@')]\n",
    "found.count()"
   ]
  },
  {
   "cell_type": "code",
   "execution_count": 8,
   "id": "31e1e528",
   "metadata": {},
   "outputs": [
    {
     "data": {
      "text/plain": [
       "_type               1698\n",
       "url                 1698\n",
       "date                1698\n",
       "Tweets              1698\n",
       "renderedContent     1698\n",
       "ID                  1698\n",
       "user                1698\n",
       "replyCount          1698\n",
       "retweetCount        1698\n",
       "likeCount           1698\n",
       "quoteCount          1698\n",
       "conversationId      1698\n",
       "lang                1698\n",
       "source              1698\n",
       "sourceUrl           1698\n",
       "sourceLabel         1698\n",
       "outlinks            1189\n",
       "tcooutlinks         1189\n",
       "media                576\n",
       "retweetedTweet         0\n",
       "quotedTweet          921\n",
       "inReplyToTweetId     200\n",
       "inReplyToUser        200\n",
       "mentionedUsers       316\n",
       "coordinates           38\n",
       "place                 38\n",
       "hashtags             252\n",
       "cashtags               0\n",
       "dtype: int64"
      ]
     },
     "execution_count": 8,
     "metadata": {},
     "output_type": "execute_result"
    }
   ],
   "source": [
    "found = df[df['Tweets'].str.contains('http')]\n",
    "found.count()"
   ]
  },
  {
   "cell_type": "code",
   "execution_count": 9,
   "id": "acbc39b9",
   "metadata": {},
   "outputs": [
    {
     "data": {
      "text/plain": [
       "_type               0\n",
       "url                 0\n",
       "date                0\n",
       "Tweets              0\n",
       "renderedContent     0\n",
       "ID                  0\n",
       "user                0\n",
       "replyCount          0\n",
       "retweetCount        0\n",
       "likeCount           0\n",
       "quoteCount          0\n",
       "conversationId      0\n",
       "lang                0\n",
       "source              0\n",
       "sourceUrl           0\n",
       "sourceLabel         0\n",
       "outlinks            0\n",
       "tcooutlinks         0\n",
       "media               0\n",
       "retweetedTweet      0\n",
       "quotedTweet         0\n",
       "inReplyToTweetId    0\n",
       "inReplyToUser       0\n",
       "mentionedUsers      0\n",
       "coordinates         0\n",
       "place               0\n",
       "hashtags            0\n",
       "cashtags            0\n",
       "dtype: int64"
      ]
     },
     "execution_count": 9,
     "metadata": {},
     "output_type": "execute_result"
    }
   ],
   "source": [
    "df['Tweets'] = df['Tweets'].replace(r'http\\S+', '', regex=True).replace(r'www\\S+', '', regex=True)\n",
    "found = df[df['Tweets'].str.contains('http')]\n",
    "found.count()"
   ]
  },
  {
   "cell_type": "markdown",
   "id": "d98a81a6",
   "metadata": {},
   "source": [
    "#### Remove Punctations & Emojies & Numbers"
   ]
  },
  {
   "cell_type": "code",
   "execution_count": 10,
   "id": "ba6456de",
   "metadata": {},
   "outputs": [
    {
     "data": {
      "text/plain": [
       "0    uykumda “ülkemde  tane bile mülteci istemiyoru...\n",
       "1            ülkeyi mülteci istilâsından kurtaracağız.\n",
       "2     lan mülteciyse nasıl yerleşiyor amk? ölene ka...\n",
       "3       sığınmacı ile göçmen-mülteci geçişini yaptı...\n",
       "4      bize ne arkadaşım? arabistan’a döndü ülke.mü...\n",
       "Name: Tweets, dtype: object"
      ]
     },
     "execution_count": 10,
     "metadata": {},
     "output_type": "execute_result"
    }
   ],
   "source": [
    "sentences = df['Tweets'].copy()\n",
    "new_sent = []\n",
    "i = 0\n",
    "for sentence in sentences:\n",
    "    new_sentence = re.sub('[0-9]+', '', sentence)\n",
    "    new_sent.append(new_sentence)\n",
    "    i += 1\n",
    "    \n",
    "df['Tweets'] = new_sent\n",
    "df['Tweets'].head(5)"
   ]
  },
  {
   "cell_type": "code",
   "execution_count": 11,
   "id": "0c1f78f5",
   "metadata": {},
   "outputs": [],
   "source": [
    "table = str.maketrans('', '', string.punctuation)\n",
    "sentences = df['Tweets'].copy()\n",
    "new_sent = []\n",
    "for sentence in sentences:\n",
    "    words = sentence.split()\n",
    "    stripped = [w.translate(table) for w in words]\n",
    "    new_sent.append(stripped)"
   ]
  },
  {
   "cell_type": "code",
   "execution_count": 12,
   "id": "0aa3c0bf",
   "metadata": {},
   "outputs": [],
   "source": [
    "\n",
    "       epat = re.compile(\"[\"\n",
    "        u\"\\U0001F600-\\U0001F64F\"  # removes emoticons\n",
    "        u\"\\U0001F300-\\U0001F5FF\"  # symbols & pictographs\n",
    "        u\"\\U0001F680-\\U0001F6FF\"  # transport & map symbols\n",
    "        u\"\\U0001F1E0-\\U0001F1FF\"  # flags (iOS)\n",
    "        u\"\\U0001F1F2-\\U0001F1F4\"  # Macau flag\n",
    "        u\"\\U0001F1E6-\\U0001F1FF\"  # flags\n",
    "        u\"\\U0001F600-\\U0001F64F\"\n",
    "        u\"\\U00002702-\\U000027B0\"\n",
    "        u\"\\U000024C2-\\U0001F251\"\n",
    "        u\"\\U0001f926-\\U0001f937\"\n",
    "        u\"\\U0001F1F2\"\n",
    "        u\"\\U0001F1F4\"\n",
    "        u\"\\U0001F620\"\n",
    "        u\"\\u200d\"\n",
    "        u\"\\u2640-\\u2642\"\n",
    "        \"]+\", flags=re.UNICODE)\n",
    "\n",
    "df['Tweets'] = df['Tweets'].replace(epat, '', regex=True)"
   ]
  },
  {
   "cell_type": "markdown",
   "id": "a8ea4f5b",
   "metadata": {},
   "source": [
    "#### Polarity Analysis with TextBlob"
   ]
  },
  {
   "cell_type": "code",
   "execution_count": 13,
   "id": "f3b40570",
   "metadata": {},
   "outputs": [],
   "source": [
    "translator = Translator()"
   ]
  },
  {
   "cell_type": "code",
   "execution_count": 14,
   "id": "bfff028c",
   "metadata": {},
   "outputs": [
    {
     "data": {
      "text/plain": [
       "0       uykumda “ülkemde  tane bile mülteci istemiyoru...\n",
       "1               ülkeyi mülteci istilâsından kurtaracağız.\n",
       "2        lan mülteciyse nasıl yerleşiyor amk? ölene ka...\n",
       "3          sığınmacı ile göçmen-mülteci geçişini yaptı...\n",
       "4         bize ne arkadaşım? arabistan’a döndü ülke.mü...\n",
       "                              ...                        \n",
       "9995     isci bulma konusunda zorluk yasiyoruz. is var...\n",
       "9996        birileri de allah kitap diyerek oy topluyo...\n",
       "9997    _nidal zaten sorun da orada. isvecte kuran vey...\n",
       "9998    __yildiz  bugun gunlerden \" multeciler ulkesin...\n",
       "9999     of bildirimden okuyunca multeciler sandim kdi...\n",
       "Name: Tweets, Length: 10000, dtype: object"
      ]
     },
     "execution_count": 14,
     "metadata": {},
     "output_type": "execute_result"
    }
   ],
   "source": [
    "df[\"Tweets\"]"
   ]
  },
  {
   "cell_type": "code",
   "execution_count": 15,
   "id": "d01a4272",
   "metadata": {
    "scrolled": true
   },
   "outputs": [],
   "source": [
    "sent_df = pd.DataFrame(df[\"Tweets\"][:2000].sample(frac = 1)) #subsetting randomly to perform an overall sentiment analysis with TextBlob"
   ]
  },
  {
   "cell_type": "code",
   "execution_count": 16,
   "id": "33cd8e59",
   "metadata": {
    "scrolled": true
   },
   "outputs": [
    {
     "data": {
      "text/plain": [
       "1929    adamlar ciddi ciddi  milyon mülteciye bakacak ...\n",
       "1858    \"kendi yasalarına uymayan devlet modeli iyidir...\n",
       "1612     syn nafise hnm ben  yaşında emekli bir vatand...\n",
       "959     akp iktidarı ,\\n milyon mülteciyi ülkeye aldığ...\n",
       "995        kibarlığı oruç tutarken hatırlamakta... ne ...\n",
       "                              ...                        \n",
       "1823    en çok #mülteciye ev sahipliği yapan ilk  ülke...\n",
       "1547     görmüyor. bir yandan ukranyali mülteciye bakı...\n",
       "636       ben sahsen böyle bir raporu hatırlamıyorum.s...\n",
       "227      komutanım vatan bir kuşatma icerisine itilmek...\n",
       "465      sığınmacı onlar, mülteci değil vatan haini ka...\n",
       "Name: Tweets, Length: 2000, dtype: object"
      ]
     },
     "execution_count": 16,
     "metadata": {},
     "output_type": "execute_result"
    }
   ],
   "source": [
    "sent_df[\"Tweets\"]"
   ]
  },
  {
   "cell_type": "code",
   "execution_count": 17,
   "id": "396418ed",
   "metadata": {},
   "outputs": [
    {
     "data": {
      "text/plain": [
       "(2000,)"
      ]
     },
     "execution_count": 17,
     "metadata": {},
     "output_type": "execute_result"
    }
   ],
   "source": [
    "sent_df[\"Tweets\"].shape"
   ]
  },
  {
   "cell_type": "code",
   "execution_count": 18,
   "id": "e7e09a4a",
   "metadata": {},
   "outputs": [],
   "source": [
    "#!pip install googletrans==4.0.0rc1"
   ]
  },
  {
   "cell_type": "code",
   "execution_count": null,
   "id": "05b2c5c1",
   "metadata": {
    "scrolled": false
   },
   "outputs": [],
   "source": [
    "sent_df['English'] = sent_df[\"Tweets\"].apply(lambda x: translator.translate(x, dest='en').text)"
   ]
  },
  {
   "cell_type": "code",
   "execution_count": 24,
   "id": "df6e011e",
   "metadata": {
    "scrolled": true
   },
   "outputs": [
    {
     "data": {
      "text/plain": [
       "1159    Those who say that you cannot send a million r...\n",
       "1694    I don't love the man as much as my sin, we're ...\n",
       "10      You spend energy in wasting energy, the nation...\n",
       "535     How do you compare the year with the condition...\n",
       "1306    Then the man criticizes the government.\\nHe al...\n",
       "                              ...                        \n",
       "1749    How did you keep the idea of seeing Reva in th...\n",
       "477     Jaho month ago, even in the number of refugees...\n",
       "1096    Why do we multiply the Syrians, what is the be...\n",
       "699     Hi on a beautiful Saturday night information, ...\n",
       "695     Well, the AKP is also right in the thought of ...\n",
       "Name: English, Length: 2000, dtype: object"
      ]
     },
     "execution_count": 24,
     "metadata": {},
     "output_type": "execute_result"
    }
   ],
   "source": [
    "sent_df['English']"
   ]
  },
  {
   "cell_type": "code",
   "execution_count": 25,
   "id": "495cc685",
   "metadata": {},
   "outputs": [
    {
     "name": "stdout",
     "output_type": "stream",
     "text": [
      "Running sentiment process\n"
     ]
    },
    {
     "data": {
      "text/html": [
       "<div>\n",
       "<style scoped>\n",
       "    .dataframe tbody tr th:only-of-type {\n",
       "        vertical-align: middle;\n",
       "    }\n",
       "\n",
       "    .dataframe tbody tr th {\n",
       "        vertical-align: top;\n",
       "    }\n",
       "\n",
       "    .dataframe thead th {\n",
       "        text-align: right;\n",
       "    }\n",
       "</style>\n",
       "<table border=\"1\" class=\"dataframe\">\n",
       "  <thead>\n",
       "    <tr style=\"text-align: right;\">\n",
       "      <th></th>\n",
       "      <th>Tweets</th>\n",
       "      <th>polarity</th>\n",
       "      <th>Sentiment</th>\n",
       "    </tr>\n",
       "  </thead>\n",
       "  <tbody>\n",
       "    <tr>\n",
       "      <th>1159</th>\n",
       "      <td>milyon mülteciyi gonderemezsin, göndeririz ...</td>\n",
       "      <td>0.136364</td>\n",
       "      <td>Positive</td>\n",
       "    </tr>\n",
       "    <tr>\n",
       "      <th>1694</th>\n",
       "      <td>adamı günahım kadar sevmem, siyasi olarak tam ...</td>\n",
       "      <td>0.195833</td>\n",
       "      <td>Positive</td>\n",
       "    </tr>\n",
       "    <tr>\n",
       "      <th>10</th>\n",
       "      <td>boşa enerji harcıyorsunuz ben deyim de millet...</td>\n",
       "      <td>0.003680</td>\n",
       "      <td>Positive</td>\n",
       "    </tr>\n",
       "    <tr>\n",
       "      <th>535</th>\n",
       "      <td>yılındaki şartlarla  yılını nasıl karşılaştı...</td>\n",
       "      <td>0.241667</td>\n",
       "      <td>Positive</td>\n",
       "    </tr>\n",
       "    <tr>\n",
       "      <th>1306</th>\n",
       "      <td>sonra cikmis hükumeti eleştiriyor adam.\\nbirde...</td>\n",
       "      <td>0.000000</td>\n",
       "      <td>Neutral</td>\n",
       "    </tr>\n",
       "    <tr>\n",
       "      <th>1189</th>\n",
       "      <td>almanya’nın suriye’ye bayram için tatile giden...</td>\n",
       "      <td>0.000000</td>\n",
       "      <td>Neutral</td>\n",
       "    </tr>\n",
       "    <tr>\n",
       "      <th>703</th>\n",
       "      <td>mültecilerle ilgili yumurtlayacağım dediğin ...</td>\n",
       "      <td>0.000000</td>\n",
       "      <td>Neutral</td>\n",
       "    </tr>\n",
       "    <tr>\n",
       "      <th>1637</th>\n",
       "      <td>_genc_   mal mısın amk? mülteciye oyna devamm...</td>\n",
       "      <td>0.000000</td>\n",
       "      <td>Neutral</td>\n",
       "    </tr>\n",
       "    <tr>\n",
       "      <th>248</th>\n",
       "      <td>başkasının ülkesinde mülteci de olabilirdin....</td>\n",
       "      <td>0.000000</td>\n",
       "      <td>Neutral</td>\n",
       "    </tr>\n",
       "    <tr>\n",
       "      <th>1516</th>\n",
       "      <td>_emredogan  maalesef bizim ülkemizde anketler ...</td>\n",
       "      <td>-0.033333</td>\n",
       "      <td>Negative</td>\n",
       "    </tr>\n",
       "    <tr>\n",
       "      <th>1139</th>\n",
       "      <td>_kusu akpmhp i̇stanbul'u sığınmacılar ile per...</td>\n",
       "      <td>-1.000000</td>\n",
       "      <td>Negative</td>\n",
       "    </tr>\n",
       "    <tr>\n",
       "      <th>1783</th>\n",
       "      <td>_tr i̇ki kelime türkçe bilmeyene vatandaşlık v...</td>\n",
       "      <td>0.131250</td>\n",
       "      <td>Positive</td>\n",
       "    </tr>\n",
       "    <tr>\n",
       "      <th>117</th>\n",
       "      <td>_kalem   raporun hazırlanma tarihi olan 'da h...</td>\n",
       "      <td>-0.062500</td>\n",
       "      <td>Negative</td>\n",
       "    </tr>\n",
       "    <tr>\n",
       "      <th>624</th>\n",
       "      <td>diğer konularla ilgilenen bissürü gazeteci v...</td>\n",
       "      <td>0.081250</td>\n",
       "      <td>Positive</td>\n",
       "    </tr>\n",
       "    <tr>\n",
       "      <th>1767</th>\n",
       "      <td>milyon vatan evladı ekmek bulamadığı için dün...</td>\n",
       "      <td>0.000000</td>\n",
       "      <td>Neutral</td>\n",
       "    </tr>\n",
       "    <tr>\n",
       "      <th>1242</th>\n",
       "      <td>dünya bankasından verilecek  milyar $ için ül...</td>\n",
       "      <td>0.068182</td>\n",
       "      <td>Positive</td>\n",
       "    </tr>\n",
       "    <tr>\n",
       "      <th>307</th>\n",
       "      <td>ulan mülteci güzellemesi yapmak için her tür...</td>\n",
       "      <td>0.000000</td>\n",
       "      <td>Neutral</td>\n",
       "    </tr>\n",
       "    <tr>\n",
       "      <th>856</th>\n",
       "      <td>_bilgi dış güçler  milyon mülteciyi sizin saye...</td>\n",
       "      <td>0.100000</td>\n",
       "      <td>Positive</td>\n",
       "    </tr>\n",
       "    <tr>\n",
       "      <th>652</th>\n",
       "      <td>twitter sayfasına mülteci istemiyorum yazıp üm...</td>\n",
       "      <td>0.000000</td>\n",
       "      <td>Neutral</td>\n",
       "    </tr>\n",
       "    <tr>\n",
       "      <th>91</th>\n",
       "      <td>çok zorlama bir yazı, hangi yıl, kaç mülteci...</td>\n",
       "      <td>0.350000</td>\n",
       "      <td>Positive</td>\n",
       "    </tr>\n",
       "  </tbody>\n",
       "</table>\n",
       "</div>"
      ],
      "text/plain": [
       "                                                 Tweets  polarity Sentiment\n",
       "1159     milyon mülteciyi gonderemezsin, göndeririz ...  0.136364  Positive\n",
       "1694  adamı günahım kadar sevmem, siyasi olarak tam ...  0.195833  Positive\n",
       "10     boşa enerji harcıyorsunuz ben deyim de millet...  0.003680  Positive\n",
       "535     yılındaki şartlarla  yılını nasıl karşılaştı...  0.241667  Positive\n",
       "1306  sonra cikmis hükumeti eleştiriyor adam.\\nbirde...  0.000000   Neutral\n",
       "1189  almanya’nın suriye’ye bayram için tatile giden...  0.000000   Neutral\n",
       "703     mültecilerle ilgili yumurtlayacağım dediğin ...  0.000000   Neutral\n",
       "1637   _genc_   mal mısın amk? mülteciye oyna devamm...  0.000000   Neutral\n",
       "248     başkasının ülkesinde mülteci de olabilirdin....  0.000000   Neutral\n",
       "1516  _emredogan  maalesef bizim ülkemizde anketler ... -0.033333  Negative\n",
       "1139   _kusu akpmhp i̇stanbul'u sığınmacılar ile per... -1.000000  Negative\n",
       "1783  _tr i̇ki kelime türkçe bilmeyene vatandaşlık v...  0.131250  Positive\n",
       "117    _kalem   raporun hazırlanma tarihi olan 'da h... -0.062500  Negative\n",
       "624     diğer konularla ilgilenen bissürü gazeteci v...  0.081250  Positive\n",
       "1767   milyon vatan evladı ekmek bulamadığı için dün...  0.000000   Neutral\n",
       "1242   dünya bankasından verilecek  milyar $ için ül...  0.068182  Positive\n",
       "307     ulan mülteci güzellemesi yapmak için her tür...  0.000000   Neutral\n",
       "856   _bilgi dış güçler  milyon mülteciyi sizin saye...  0.100000  Positive\n",
       "652   twitter sayfasına mülteci istemiyorum yazıp üm...  0.000000   Neutral\n",
       "91      çok zorlama bir yazı, hangi yıl, kaç mülteci...  0.350000  Positive"
      ]
     },
     "execution_count": 25,
     "metadata": {},
     "output_type": "execute_result"
    }
   ],
   "source": [
    "print(\"Running sentiment process\")\n",
    "for row in sent_df.itertuples():\n",
    "    tweet = str(sent_df.at[row[0], 'English'])\n",
    "#run sentiment using TextBlob\n",
    "    analysis = TextBlob(tweet)\n",
    "#set value to dataframe\n",
    "    sent_df.at[row[0], 'polarity'] = analysis.sentiment[0]\n",
    "    sent_df.at[row[0], 'subjectivity'] = analysis.sentiment[1]\n",
    "#Create Positive / negative column depending on polarity\n",
    "    if analysis.sentiment[0]>0:\n",
    "        sent_df.at[row[0], 'Sentiment'] = \"Positive\"\n",
    "    elif analysis.sentiment[0]<0:\n",
    "        sent_df.at[row[0], 'Sentiment'] = \"Negative\"\n",
    "    else:\n",
    "        sent_df.at[row[0], 'Sentiment'] = \"Neutral\"\n",
    "        \n",
    "sent_df[[\"Tweets\",\"polarity\",\"Sentiment\"]][:20]"
   ]
  },
  {
   "cell_type": "markdown",
   "id": "63efd2d7",
   "metadata": {},
   "source": [
    "#### Positive Negative Balance"
   ]
  },
  {
   "cell_type": "code",
   "execution_count": 26,
   "id": "2c1b4fac",
   "metadata": {},
   "outputs": [
    {
     "name": "stdout",
     "output_type": "stream",
     "text": [
      "total number:  2000\n",
      "positive number:  887\n",
      "negative number:  391\n",
      "\n",
      "% of positive:  44.35\n",
      "% of negative:  19.55\n"
     ]
    }
   ],
   "source": [
    "tweet_list = sent_df['Tweets']\n",
    "negative_list = sent_df[sent_df['Sentiment'] == \"Negative\"]\n",
    "positive_list = sent_df[sent_df['Sentiment'] == \"Positive\"]\n",
    "\n",
    "print(\"total number: \",len(tweet_list))\n",
    "print(\"positive number: \",len(positive_list))\n",
    "print(\"negative number: \", len(negative_list))\n",
    "\n",
    "print()\n",
    "\n",
    "print(\"% of positive: \",100*len(positive_list)/len(tweet_list))\n",
    "print(\"% of negative: \",100*len(negative_list)/len(tweet_list))"
   ]
  },
  {
   "cell_type": "code",
   "execution_count": 27,
   "id": "863d6c0e",
   "metadata": {
    "scrolled": true
   },
   "outputs": [
    {
     "data": {
      "image/png": "[encoded data removed]",
      "text/plain": [
       "<Figure size 432x288 with 1 Axes>"
      ]
     },
     "metadata": {},
     "output_type": "display_data"
    }
   ],
   "source": [
    "import matplotlib.pyplot as plt\n",
    "\n",
    "positive = int(100*len(positive_list)/len(tweet_list))\n",
    "negative = int(100*len(negative_list)/len(tweet_list))\n",
    "\n",
    "labels = ['Positive ['+str(positive)+'%]','Negative ['+str(negative)+'%]']\n",
    "sizes = [positive, negative]\n",
    "colors = ['yellowgreen', 'blue']\n",
    "patches, texts = plt.pie(sizes,colors=colors, startangle=90, radius=50)\n",
    "plt.style.use('default')\n",
    "plt.legend(labels)\n",
    "plt.title(\"Sentiment Analysis Result\")\n",
    "plt.axis(\"equal\")\n",
    "plt.show()"
   ]
  },
  {
   "cell_type": "code",
   "execution_count": 15,
   "id": "7f8dafa7",
   "metadata": {
    "scrolled": false
   },
   "outputs": [
    {
     "data": {
      "text/html": [
       "<div>\n",
       "<style scoped>\n",
       "    .dataframe tbody tr th:only-of-type {\n",
       "        vertical-align: middle;\n",
       "    }\n",
       "\n",
       "    .dataframe tbody tr th {\n",
       "        vertical-align: top;\n",
       "    }\n",
       "\n",
       "    .dataframe thead th {\n",
       "        text-align: right;\n",
       "    }\n",
       "</style>\n",
       "<table border=\"1\" class=\"dataframe\">\n",
       "  <thead>\n",
       "    <tr style=\"text-align: right;\">\n",
       "      <th></th>\n",
       "      <th>Tweets</th>\n",
       "    </tr>\n",
       "  </thead>\n",
       "  <tbody>\n",
       "    <tr>\n",
       "      <th>0</th>\n",
       "      <td>[uykumda, “ülkemde, tane, bile, mülteci, istem...</td>\n",
       "    </tr>\n",
       "    <tr>\n",
       "      <th>1</th>\n",
       "      <td>[ülkeyi, mülteci, istilâsından, kurtaracağız]</td>\n",
       "    </tr>\n",
       "    <tr>\n",
       "      <th>2</th>\n",
       "      <td>[lan, mülteciyse, nasıl, yerleşiyor, amk, ölen...</td>\n",
       "    </tr>\n",
       "    <tr>\n",
       "      <th>3</th>\n",
       "      <td>[sığınmacı, ile, göçmenmülteci, geçişini, yapt...</td>\n",
       "    </tr>\n",
       "    <tr>\n",
       "      <th>4</th>\n",
       "      <td>[bize, ne, arkadaşım, arabistan’a, döndü, ülke...</td>\n",
       "    </tr>\n",
       "  </tbody>\n",
       "</table>\n",
       "</div>"
      ],
      "text/plain": [
       "                                              Tweets\n",
       "0  [uykumda, “ülkemde, tane, bile, mülteci, istem...\n",
       "1      [ülkeyi, mülteci, istilâsından, kurtaracağız]\n",
       "2  [lan, mülteciyse, nasıl, yerleşiyor, amk, ölen...\n",
       "3  [sığınmacı, ile, göçmenmülteci, geçişini, yapt...\n",
       "4  [bize, ne, arkadaşım, arabistan’a, döndü, ülke..."
      ]
     },
     "execution_count": 15,
     "metadata": {},
     "output_type": "execute_result"
    }
   ],
   "source": [
    "#tokenized\n",
    "# pd.set_option('display.max_rows', None)\n",
    "df['Tweets'] = new_sent\n",
    "dff = pd.DataFrame(df['Tweets'])\n",
    "dff.head(5)"
   ]
  },
  {
   "cell_type": "markdown",
   "id": "93b95b12",
   "metadata": {},
   "source": [
    "## Zemberek-NLP"
   ]
  },
  {
   "cell_type": "markdown",
   "id": "95b45ee7",
   "metadata": {},
   "source": [
    "#### Tokenization"
   ]
  },
  {
   "cell_type": "code",
   "execution_count": 1,
   "id": "e42e0741",
   "metadata": {
    "scrolled": false
   },
   "outputs": [],
   "source": [
    "#!pip install antlr4-python3-runtime==4.8\n",
    "#pip install zemberek-python"
   ]
  },
  {
   "cell_type": "code",
   "execution_count": 1,
   "id": "6c369451",
   "metadata": {
    "scrolled": true
   },
   "outputs": [
    {
     "name": "stdout",
     "output_type": "stream",
     "text": [
      "2022-05-20 15:50:39,088 - zemberek.morphology.turkish_morphology - INFO\n",
      "Msg: TurkishMorphology instance initialized in 11.963999271392822\n",
      "\n"
     ]
    }
   ],
   "source": [
    "import time\n",
    "import logging\n",
    "\n",
    "from zemberek import (\n",
    "    TurkishSpellChecker,\n",
    "    TurkishSentenceNormalizer,\n",
    "    TurkishSentenceExtractor,\n",
    "    TurkishMorphology,\n",
    "    TurkishTokenizer\n",
    ")\n",
    "\n",
    "logger = logging.getLogger(__name__)\n",
    "\n",
    "morphology = TurkishMorphology.create_with_defaults()\n",
    "normalizer = TurkishSentenceNormalizer(morphology)\n",
    "extractor = TurkishSentenceExtractor()"
   ]
  },
  {
   "cell_type": "markdown",
   "id": "a3b1f67a",
   "metadata": {},
   "source": [
    "#### Sentence Normalization"
   ]
  },
  {
   "cell_type": "code",
   "execution_count": 2,
   "id": "9d71f955",
   "metadata": {},
   "outputs": [],
   "source": [
    "def normalize_long_text(text):\n",
    "    normalized_sentences = [normalizer.normalize(word) for word in text]\n",
    "    normalized_text = \" \".join(normalized_sentences)\n",
    "    return normalized_text"
   ]
  },
  {
   "cell_type": "code",
   "execution_count": null,
   "id": "cbdb140b",
   "metadata": {},
   "outputs": [],
   "source": [
    "sentences = df['Tweets'].copy()\n",
    "new_sent = []\n",
    "start = time.time()\n",
    "\n",
    "for token in sentences:   \n",
    "    if token.count('') > 0:\n",
    "        token = list(filter(('').__ne__, token))\n",
    "    new_token = normalize_long_text(token)\n",
    "    new_sent.append(new_token)\n",
    "\n",
    "logger.info(f\"Sentences normalized in: {time.time() - start} s\")"
   ]
  },
  {
   "cell_type": "markdown",
   "id": "4d6979ec",
   "metadata": {},
   "source": [
    "#### Stopwords"
   ]
  },
  {
   "cell_type": "raw",
   "id": "74589bb9",
   "metadata": {
    "scrolled": true
   },
   "source": [
    "!pip install stopwords"
   ]
  },
  {
   "cell_type": "code",
   "execution_count": 26,
   "id": "8b730df5",
   "metadata": {},
   "outputs": [
    {
     "name": "stderr",
     "output_type": "stream",
     "text": [
      "[nltk_data] Downloading package stopwords to\n",
      "[nltk_data]     C:\\Users\\Sercan\\AppData\\Roaming\\nltk_data...\n",
      "[nltk_data]   Unzipping corpora\\stopwords.zip.\n"
     ]
    },
    {
     "data": {
      "text/plain": [
       "True"
      ]
     },
     "execution_count": 26,
     "metadata": {},
     "output_type": "execute_result"
    }
   ],
   "source": [
    "nltk.download('stopwords')"
   ]
  },
  {
   "cell_type": "code",
   "execution_count": 4,
   "id": "7c7ab120",
   "metadata": {
    "scrolled": true
   },
   "outputs": [
    {
     "name": "stdout",
     "output_type": "stream",
     "text": [
      "{'ama', 'eğer', 'siz', 'da', 'nerde', 'tüm', 'aslında', 'biz', 'çünkü', 'az', 'sanki', 'acaba', 'kim', 'hem', 'birşey', 'ne', 'nereye', 'mu', 'bu', 'nasıl', 've', 'veya', 'niye', 'neden', 'ki', 'için', 'çok', 'defa', 'ise', 'ile', 'biri', 'her', 'en', 'bazı', 'kez', 'diye', 'yani', 'mü', 'hepsi', 'birkaç', 'niçin', 'o', 'belki', 'mı', 'ya', 'şu', 'hep', 'hiç', 'şey', 'nerede', 'de', 'gibi', 'daha'}\n"
     ]
    }
   ],
   "source": [
    "from nltk.corpus import stopwords\n",
    "import re\n",
    "stops = set(stopwords.words('turkish'))\n",
    "print(stops)"
   ]
  },
  {
   "cell_type": "code",
   "execution_count": null,
   "id": "9f705d78",
   "metadata": {},
   "outputs": [],
   "source": [
    "splitted_words = []\n",
    "for sent in new_sent:\n",
    "    words = sent.split()\n",
    "    splitted_words.append(words)"
   ]
  },
  {
   "cell_type": "code",
   "execution_count": 29,
   "id": "7da99030",
   "metadata": {},
   "outputs": [],
   "source": [
    "clean_sent = []\n",
    "for sentence in splitted_words:\n",
    "    new_sentence = [w for w in sentence if w not in stops]\n",
    "    clean_sent.append(new_sentence)"
   ]
  },
  {
   "cell_type": "markdown",
   "id": "d32366f1",
   "metadata": {},
   "source": [
    "#### Lemmatization"
   ]
  },
  {
   "cell_type": "code",
   "execution_count": 30,
   "id": "3f2541ec",
   "metadata": {},
   "outputs": [],
   "source": [
    "for token in clean_sent:\n",
    "    j = 0\n",
    "    for word in token:\n",
    "        new_word = word.replace('\"', '').replace(\"’\", '').replace(\"'\", '').replace(\"”\", '')\n",
    "        token[j] = new_word\n",
    "        j += 1"
   ]
  },
  {
   "cell_type": "raw",
   "id": "63940995",
   "metadata": {},
   "source": [
    "!pip install zeyrek"
   ]
  },
  {
   "cell_type": "code",
   "execution_count": null,
   "id": "c5ef8cd8",
   "metadata": {},
   "outputs": [
    {
     "name": "stdout",
     "output_type": "stream",
     "text": [
      "showing info https://raw.githubusercontent.com/nltk/nltk_data/gh-pages/index.xml\n"
     ]
    }
   ],
   "source": [
    "import nltk\n",
    "nltk.download()"
   ]
  },
  {
   "cell_type": "code",
   "execution_count": 34,
   "id": "2f5035bd",
   "metadata": {
    "scrolled": false
   },
   "outputs": [
    {
     "name": "stderr",
     "output_type": "stream",
     "text": [
      "[nltk_data] Downloading package punkt to\n",
      "[nltk_data]     C:\\Users\\Sercan\\AppData\\Roaming\\nltk_data...\n",
      "[nltk_data]   Unzipping tokenizers\\punkt.zip.\n",
      "[nltk_data] Error with downloaded zip file\n"
     ]
    },
    {
     "data": {
      "text/plain": [
       "False"
      ]
     },
     "execution_count": 34,
     "metadata": {},
     "output_type": "execute_result"
    }
   ],
   "source": [
    "nltk.download('punkt')"
   ]
  },
  {
   "cell_type": "code",
   "execution_count": null,
   "id": "1852dd07",
   "metadata": {},
   "outputs": [],
   "source": [
    "import zeyrek\n",
    "\n",
    "analyzer = zeyrek.MorphAnalyzer()\n",
    "lem_sent = []\n",
    "for sent in clean_sent:\n",
    "    normalized_sent = []\n",
    "    for word in sent:\n",
    "        if word == '':\n",
    "            continue\n",
    "        else:\n",
    "            lem_word = analyzer.lemmatize(word)\n",
    "            normalized_sent.append(lem_word[0][1][0])\n",
    "    lem_sent.append(normalized_sent)"
   ]
  },
  {
   "cell_type": "code",
   "execution_count": null,
   "id": "dc11b857",
   "metadata": {},
   "outputs": [],
   "source": [
    "x = lem_sent.copy()\n",
    "for sent in x:\n",
    "    i = 0\n",
    "    for token in sent:\n",
    "        sent[i] = token.lower()\n",
    "        i += 1\n",
    "lem_sent = x"
   ]
  },
  {
   "cell_type": "code",
   "execution_count": null,
   "id": "bbf6b849",
   "metadata": {},
   "outputs": [],
   "source": [
    "lem_sent = list(filter(('').__ne__, lem_sent))"
   ]
  },
  {
   "cell_type": "code",
   "execution_count": null,
   "id": "674fa0ec",
   "metadata": {},
   "outputs": [],
   "source": [
    "df['Tweets'] = lem_sent\n",
    "df['Tweets'].head(5)"
   ]
  },
  {
   "cell_type": "code",
   "execution_count": null,
   "id": "eee02979",
   "metadata": {},
   "outputs": [],
   "source": [
    "df['Tweets'] = df.Tweets.apply(' '.join)"
   ]
  },
  {
   "cell_type": "code",
   "execution_count": null,
   "id": "96338a3f",
   "metadata": {},
   "outputs": [],
   "source": [
    "df[\"Tweets\"].to_csv(\"lemmatized_tweets_for_lda.csv\")"
   ]
  },
  {
   "cell_type": "markdown",
   "id": "1afc0b24",
   "metadata": {},
   "source": [
    "## Visualizing N-Grams"
   ]
  },
  {
   "cell_type": "markdown",
   "id": "f88ec52c",
   "metadata": {},
   "source": [
    "#### Top Bigrams"
   ]
  },
  {
   "cell_type": "code",
   "execution_count": null,
   "id": "210ba14e",
   "metadata": {},
   "outputs": [],
   "source": [
    "def get_top_n_bigram(corpus, n=None):\n",
    "    vec = CountVectorizer(ngram_range=(2,2)).fit(corpus)\n",
    "    bag_of_words = vec.transform(corpus)\n",
    "    sum_words = bag_of_words.sum(axis=0)\n",
    "    words_freq = [(word, sum_words[0, idx]) for word, idx in vec.vocabulary_.items()]\n",
    "    words_freq =sorted(words_freq, key = lambda x: x[1], reverse=True)\n",
    "    return words_freq[:n]\n",
    "\n",
    "common_words2 = get_top_n_bigram(df['Tweets'], 30)"
   ]
  },
  {
   "cell_type": "code",
   "execution_count": null,
   "id": "807f59b1",
   "metadata": {},
   "outputs": [],
   "source": [
    "top_bigram = pd.DataFrame(common_words2, columns=['Tweets', \"Count\"])\n",
    "top_bigram.head()"
   ]
  },
  {
   "cell_type": "code",
   "execution_count": null,
   "id": "8c4e4d79",
   "metadata": {},
   "outputs": [],
   "source": [
    "top_bigram.groupby('Tweets').sum()['Count'].sort_values(ascending=False).plot(\n",
    "    kind='bar',\n",
    "    figsize=(8,6),\n",
    "    xlabel = \"Bigram Words\",\n",
    "    ylabel = \"Count\",\n",
    "    title = \"Bar chart of Bigrams Frequency\")"
   ]
  },
  {
   "cell_type": "markdown",
   "id": "ce35a909",
   "metadata": {},
   "source": [
    "#### Top Trigrams"
   ]
  },
  {
   "cell_type": "code",
   "execution_count": null,
   "id": "af476798",
   "metadata": {},
   "outputs": [],
   "source": [
    "def get_top_n_trigram(corpus, n=None):\n",
    "    vec = CountVectorizer(ngram_range=(3, 3)).fit(corpus)\n",
    "    bag_of_words = vec.transform(corpus)\n",
    "    sum_words = bag_of_words.sum(axis=0)\n",
    "    words_freq = [(word, sum_words[0, idx]) for word, idx in vec.vocabulary_.items()]\n",
    "    words_freq =sorted(words_freq, key = lambda x: x[1], reverse=True)\n",
    "    return words_freq[:n]\n",
    "\n",
    "common_words3 = get_top_n_trigram(df['Tweets'], 30)\n",
    "top_trigram = pd.DataFrame(common_words3, columns = ['Tweets' , 'Count'])\n",
    "top_trigram.head(5)"
   ]
  },
  {
   "cell_type": "code",
   "execution_count": null,
   "id": "1027e755",
   "metadata": {},
   "outputs": [],
   "source": [
    "top_trigram.groupby('Tweets').sum()['Count'].sort_values(ascending=False).plot(\n",
    "    kind='bar',\n",
    "    figsize=(8,6),\n",
    "    xlabel = \"Trigram Words\",\n",
    "    ylabel = \"Count\",\n",
    "    title = \"Bar chart of Trigrams Frequency\")"
   ]
  },
  {
   "cell_type": "markdown",
   "id": "ecd6a03e",
   "metadata": {},
   "source": [
    "## WordCloud"
   ]
  },
  {
   "cell_type": "raw",
   "id": "563920b2",
   "metadata": {},
   "source": [
    "!pip install wordcloud"
   ]
  },
  {
   "cell_type": "raw",
   "id": "e99f6dff",
   "metadata": {},
   "source": [
    "!conda install -c conda-forge wordcloud=1.2.1"
   ]
  },
  {
   "cell_type": "code",
   "execution_count": 6,
   "id": "631dc150",
   "metadata": {},
   "outputs": [],
   "source": [
    "from wordcloud import WordCloud, STOPWORDS\n",
    "\n",
    "def creat_wordcloud(tweets):\n",
    "    comment_words = ''\n",
    "    stopwords = set(STOPWORDS)\n",
    "    \n",
    "    # iterate through the csv file\n",
    "    for val in tweets:\n",
    "\n",
    "        # typecaste each val to string\n",
    "        val = str(val)\n",
    "\n",
    "        # split the value\n",
    "        tokens = val.split()\n",
    "\n",
    "        # Converts each token into lowercase\n",
    "        for i in range(len(tokens)):\n",
    "            tokens[i] = tokens[i].lower()\n",
    "\n",
    "        comment_words += \" \".join(tokens)+\" \"\n",
    "\n",
    "    wordcloud = WordCloud(width = 1200, height = 800,\n",
    "                    background_color ='white',\n",
    "                    max_words=3000,\n",
    "                    stopwords = stopwords,\n",
    "                    min_font_size = 10,\n",
    "                    repeat = True).generate(comment_words)\n",
    "\n",
    "    # plot the WordCloud image                       \n",
    "    plt.figure(figsize = (8, 8), facecolor = None)\n",
    "    plt.imshow(wordcloud)\n",
    "    plt.axis(\"off\")\n",
    "    plt.tight_layout(pad = 0)\n",
    "\n",
    "    plt.show()"
   ]
  },
  {
   "cell_type": "code",
   "execution_count": null,
   "id": "f9e1ce6c",
   "metadata": {},
   "outputs": [],
   "source": [
    "# All Tweets\n",
    "creat_wordcloud(df['Tweets'].values)"
   ]
  },
  {
   "cell_type": "markdown",
   "id": "bb5bc387",
   "metadata": {},
   "source": [
    "## Visualizing Top Words"
   ]
  },
  {
   "cell_type": "code",
   "execution_count": 1,
   "id": "28f34e0a",
   "metadata": {},
   "outputs": [],
   "source": [
    "from sklearn.feature_extraction.text import CountVectorizer\n",
    "\n",
    "def get_top_n_words(corpus, n=None):\n",
    "    vec = CountVectorizer().fit(corpus)\n",
    "    bag_of_words = vec.transform(corpus)\n",
    "    sum_words = bag_of_words.sum(axis=0)\n",
    "    words_freq = [(word, sum_words[0, idx]) for word, idx in vec.vocabulary_.items()]\n",
    "    words_freq =sorted(words_freq, key = lambda x: x[1], reverse=True)\n",
    "    return words_freq[:n]"
   ]
  },
  {
   "cell_type": "code",
   "execution_count": null,
   "id": "779f4125",
   "metadata": {},
   "outputs": [],
   "source": [
    "common_words = get_top_n_words(df['Tweets'], 20)\n",
    "common_df = pd.DataFrame(common_words, columns = ['Tweets', 'count'])\n",
    "common_df.head()"
   ]
  },
  {
   "cell_type": "code",
   "execution_count": null,
   "id": "274eecc0",
   "metadata": {},
   "outputs": [],
   "source": [
    "common_df.groupby('Tweets').sum()['count'].sort_values(ascending=False).plot(\n",
    "    kind='bar',\n",
    "    figsize=(8, 6),\n",
    "    xlabel = \"Top Words\",\n",
    "    ylabel = \"Count\",\n",
    "    title = \"Bar Chart of Top Words Frequency\")"
   ]
  }
 ],
 "metadata": {
  "kernelspec": {
   "display_name": "Python 3 (ipykernel)",
   "language": "python",
   "name": "python3"
  },
  "language_info": {
   "codemirror_mode": {
    "name": "ipython",
    "version": 3
   },
   "file_extension": ".py",
   "mimetype": "text/x-python",
   "name": "python",
   "nbconvert_exporter": "python",
   "pygments_lexer": "ipython3",
   "version": "3.9.7"
  }
 },
 "nbformat": 4,
 "nbformat_minor": 5
}
